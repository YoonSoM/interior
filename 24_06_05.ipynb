{
  "nbformat": 4,
  "nbformat_minor": 0,
  "metadata": {
    "colab": {
      "provenance": [],
      "authorship_tag": "ABX9TyNbvIxUwDxIa/tVujCxScT/",
      "include_colab_link": true
    },
    "kernelspec": {
      "name": "python3",
      "display_name": "Python 3"
    },
    "language_info": {
      "name": "python"
    }
  },
  "cells": [
    {
      "cell_type": "markdown",
      "metadata": {
        "id": "view-in-github",
        "colab_type": "text"
      },
      "source": [
        "<a href=\"https://colab.research.google.com/github/YoonSoM/interior/blob/master/24_06_05.ipynb\" target=\"_parent\"><img src=\"https://colab.research.google.com/assets/colab-badge.svg\" alt=\"Open In Colab\"/></a>"
      ]
    },
    {
      "cell_type": "code",
      "execution_count": 1,
      "metadata": {
        "colab": {
          "base_uri": "https://localhost:8080/"
        },
        "id": "3fyxsGFmpY7G",
        "outputId": "dd65e834-b841-405e-c6ea-0b87ca5b4713"
      },
      "outputs": [
        {
          "output_type": "stream",
          "name": "stdout",
          "text": [
            "Recommended furniture:\n",
            "Sofa : 0.816496580927726\n",
            "Chair : 0.4999999999999999\n",
            "Table : 0.0\n"
          ]
        }
      ],
      "source": [
        "import numpy as np\n",
        "from sklearn.metrics.pairwise import cosine_similarity\n",
        "\n",
        "# 미리 정의된 가구 데이터셋 (예시)\n",
        "furniture_data = {\n",
        "    'Sofa': np.array([1, 0, 1, 1, 0]),  # 가구 특징 벡터 (예: 소파)\n",
        "    'Table': np.array([0, 1, 0, 1, 0]),  # 가구 특징 벡터 (예: 테이블)\n",
        "    'Chair': np.array([1, 1, 0, 0, 0]),  # 가구 특징 벡터 (예: 의자)\n",
        "    # 나머지 가구들도 유사하게 정의\n",
        "}\n",
        "\n",
        "def recommend_interior(user_input, furniture_data):\n",
        "    # 사용자 입력을 벡터로 변환\n",
        "    user_vector = np.array(user_input)\n",
        "\n",
        "    # 가구별 유사도 계산\n",
        "    similarities = {}\n",
        "    for furniture, vector in furniture_data.items():\n",
        "        similarities[furniture] = cosine_similarity([user_vector], [vector])[0][0]\n",
        "\n",
        "    # 유사도에 따라 내림차순으로 정렬하여 추천\n",
        "    recommended_furniture = sorted(similarities.items(), key=lambda x: x[1], reverse=True)\n",
        "\n",
        "    return recommended_furniture\n",
        "\n",
        "# 사용자 입력 (예시)\n",
        "user_input = [1, 0, 1, 0, 0]  # 사용자가 선택한 가구 항목 (예: 소파와 테이블 선택)\n",
        "\n",
        "# 추천 실행\n",
        "recommendations = recommend_interior(user_input, furniture_data)\n",
        "print(\"Recommended furniture:\")\n",
        "for furniture, similarity in recommendations:\n",
        "    print(furniture, \":\", similarity)\n"
      ]
    },
    {
      "cell_type": "code",
      "source": [],
      "metadata": {
        "id": "DiqVyAILpcpH"
      },
      "execution_count": null,
      "outputs": []
    }
  ]
}