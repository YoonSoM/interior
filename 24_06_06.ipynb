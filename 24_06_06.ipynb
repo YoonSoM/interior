{
  "nbformat": 4,
  "nbformat_minor": 0,
  "metadata": {
    "colab": {
      "provenance": [],
      "authorship_tag": "ABX9TyNpGPONBh4AelaBe8S1uAXm",
      "include_colab_link": true
    },
    "kernelspec": {
      "name": "python3",
      "display_name": "Python 3"
    },
    "language_info": {
      "name": "python"
    }
  },
  "cells": [
    {
      "cell_type": "markdown",
      "metadata": {
        "id": "view-in-github",
        "colab_type": "text"
      },
      "source": [
        "<a href=\"https://colab.research.google.com/github/YoonSoM/interior/blob/master/24_06_06.ipynb\" target=\"_parent\"><img src=\"https://colab.research.google.com/assets/colab-badge.svg\" alt=\"Open In Colab\"/></a>"
      ]
    },
    {
      "cell_type": "code",
      "execution_count": 1,
      "metadata": {
        "colab": {
          "base_uri": "https://localhost:8080/"
        },
        "id": "uOfTuvGtkIqd",
        "outputId": "7ef5c44a-f47b-4b8b-bcba-e3beafbe4a06"
      },
      "outputs": [
        {
          "output_type": "stream",
          "name": "stdout",
          "text": [
            "Item: Sofa\n",
            "Brand: Ikea\n",
            "Price: $299\n",
            "URL: https://www.ikea.com/sofa\n",
            "----------------------------------------\n",
            "Item: Coffee Table\n",
            "Brand: Wayfair\n",
            "Price: $89\n",
            "URL: https://www.wayfair.com/coffee-table\n",
            "----------------------------------------\n",
            "Item: Bookshelf\n",
            "Brand: Target\n",
            "Price: $120\n",
            "URL: https://www.target.com/bookshelf\n",
            "----------------------------------------\n"
          ]
        }
      ],
      "source": [
        "import requests\n",
        "\n",
        "# 가구 및 인테리어 정보를 담고 있는 간단한 데이터베이스\n",
        "furniture_db = {\n",
        "    \"minimalist\": [\n",
        "        {\"item\": \"Sofa\", \"brand\": \"Ikea\", \"price\": 299, \"url\": \"https://www.ikea.com/sofa\"},\n",
        "        {\"item\": \"Coffee Table\", \"brand\": \"Wayfair\", \"price\": 89, \"url\": \"https://www.wayfair.com/coffee-table\"},\n",
        "        {\"item\": \"Bookshelf\", \"brand\": \"Target\", \"price\": 120, \"url\": \"https://www.target.com/bookshelf\"}\n",
        "    ],\n",
        "    \"modern\": [\n",
        "        {\"item\": \"Dining Table\", \"brand\": \"West Elm\", \"price\": 699, \"url\": \"https://www.westelm.com/dining-table\"},\n",
        "        {\"item\": \"Chair\", \"brand\": \"CB2\", \"price\": 150, \"url\": \"https://www.cb2.com/chair\"},\n",
        "        {\"item\": \"TV Stand\", \"brand\": \"Overstock\", \"price\": 250, \"url\": \"https://www.overstock.com/tv-stand\"}\n",
        "    ],\n",
        "    \"bohemian\": [\n",
        "        {\"item\": \"Rug\", \"brand\": \"Urban Outfitters\", \"price\": 200, \"url\": \"https://www.urbanoutfitters.com/rug\"},\n",
        "        {\"item\": \"Pouf\", \"brand\": \"Anthropologie\", \"price\": 130, \"url\": \"https://www.anthropologie.com/pouf\"},\n",
        "        {\"item\": \"Wall Hanging\", \"brand\": \"Etsy\", \"price\": 45, \"url\": \"https://www.etsy.com/wall-hanging\"}\n",
        "    ]\n",
        "}\n",
        "\n",
        "def get_interior_recommendation(style):\n",
        "    if style.lower() in furniture_db:\n",
        "        recommendations = furniture_db[style.lower()]\n",
        "        return recommendations\n",
        "    else:\n",
        "        return \"죄송합니다, 해당 스타일에 대한 추천 가구가 없습니다.\"\n",
        "\n",
        "# 예시: 사용자가 원하는 인테리어 스타일\n",
        "user_style = \"minimalist\"\n",
        "recommendations = get_interior_recommendation(user_style)\n",
        "\n",
        "# 추천 결과 출력\n",
        "if isinstance(recommendations, list):\n",
        "    for item in recommendations:\n",
        "        print(f\"Item: {item['item']}\")\n",
        "        print(f\"Brand: {item['brand']}\")\n",
        "        print(f\"Price: ${item['price']}\")\n",
        "        print(f\"URL: {item['url']}\")\n",
        "        print(\"-\" * 40)\n",
        "else:\n",
        "    print(recommendations)\n"
      ]
    },
    {
      "cell_type": "code",
      "source": [],
      "metadata": {
        "id": "804mKxRckMwd"
      },
      "execution_count": null,
      "outputs": []
    }
  ]
}