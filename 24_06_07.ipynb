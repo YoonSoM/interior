{
  "nbformat": 4,
  "nbformat_minor": 0,
  "metadata": {
    "colab": {
      "provenance": [],
      "authorship_tag": "ABX9TyNdh/gWU7r4cjB8VXUK7x6J",
      "include_colab_link": true
    },
    "kernelspec": {
      "name": "python3",
      "display_name": "Python 3"
    },
    "language_info": {
      "name": "python"
    }
  },
  "cells": [
    {
      "cell_type": "markdown",
      "metadata": {
        "id": "view-in-github",
        "colab_type": "text"
      },
      "source": [
        "<a href=\"https://colab.research.google.com/github/YoonSoM/interior/blob/master/24_06_07.ipynb\" target=\"_parent\"><img src=\"https://colab.research.google.com/assets/colab-badge.svg\" alt=\"Open In Colab\"/></a>"
      ]
    },
    {
      "cell_type": "code",
      "execution_count": null,
      "metadata": {
        "id": "HdsaHi5O3rBS"
      },
      "outputs": [],
      "source": [
        "def diagnose(symptoms):\n",
        "    # 간단한 질병 데이터베이스\n",
        "    diagnosis_data = {\n",
        "        \"기침\": [\"감기\", \"천식\", \"폐렴\"],\n",
        "        \"발열\": [\"감기\", \"독감\", \"코로나19\"],\n",
        "        \"두통\": [\"편두통\", \"긴장성 두통\", \"뇌진탕\"],\n",
        "        \"복통\": [\"위염\", \"장염\", \"소화불량\"],\n",
        "        \"피로\": [\"빈혈\", \"갑상선 기능 저하증\", \"만성 피로 증후군\"],\n",
        "    }\n",
        "\n",
        "    # 입력된 증상에 따라 가능한 질병 리스트\n",
        "    possible_diagnoses = []\n",
        "\n",
        "    for symptom in symptoms:\n",
        "        if symptom in diagnosis_data:\n",
        "            possible_diagnoses.extend(diagnosis_data[symptom])\n",
        "\n",
        "    # 중복 제거 및 빈도 수로 정렬\n",
        "    possible_diagnoses = list(set(possible_diagnoses))\n",
        "    possible_diagnoses.sort(key=lambda x: -sum(d in diagnosis_data[symptom] for symptom in symptoms))\n",
        "\n",
        "    return possible_diagnoses\n",
        "\n",
        "# 사용자로부터 증상 입력 받기\n",
        "user_symptoms = input(\"증상을 입력하세요 (쉼표로 구분): \").split(\", \")\n",
        "\n",
        "# 진단 결과 출력\n",
        "diagnosis_result = diagnose(user_symptoms)\n",
        "print(\"가능한 진단 결과:\")\n",
        "for diagnosis in diagnosis_result:\n",
        "    print(f\"- {diagnosis}\")\n"
      ]
    }
  ]
}