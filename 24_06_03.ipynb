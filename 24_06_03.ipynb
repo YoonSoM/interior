{
  "nbformat": 4,
  "nbformat_minor": 0,
  "metadata": {
    "colab": {
      "provenance": [],
      "toc_visible": true,
      "authorship_tag": "ABX9TyPghNxwGnFoiVJaxsQvI/7k",
      "include_colab_link": true
    },
    "kernelspec": {
      "name": "python3",
      "display_name": "Python 3"
    },
    "language_info": {
      "name": "python"
    }
  },
  "cells": [
    {
      "cell_type": "markdown",
      "metadata": {
        "id": "view-in-github",
        "colab_type": "text"
      },
      "source": [
        "<a href=\"https://colab.research.google.com/github/YoonSoM/interior/blob/master/24_06_03.ipynb\" target=\"_parent\"><img src=\"https://colab.research.google.com/assets/colab-badge.svg\" alt=\"Open In Colab\"/></a>"
      ]
    },
    {
      "cell_type": "code",
      "source": [
        "import React, { useState, useEffect } from 'react';\n",
        "import * as THREE from 'three';\n",
        "\n",
        "const RoomDesigner = () => {\n",
        "    const [furniture, setFurniture] = useState([]);\n",
        "\n",
        "    useEffect(() => {\n",
        "        // 가구 목록 불러오기\n",
        "        fetch('/api/furnitures')\n",
        "            .then(response => response.json())\n",
        "            .then(data => setFurniture(data));\n",
        "    }, []);\n",
        "\n",
        "    // 3D 씬 초기화\n",
        "    const initScene = () => {\n",
        "        const scene = new THREE.Scene();\n",
        "        const camera = new THREE.PerspectiveCamera(75, window.innerWidth / window.innerHeight, 0.1, 1000);\n",
        "        const renderer = new THREE.WebGLRenderer();\n",
        "        renderer.setSize(window.innerWidth, window.innerHeight);\n",
        "        document.body.appendChild(renderer.domElement);\n",
        "        // 추가적인 3D 설정\n",
        "    };\n",
        "\n",
        "    return (\n",
        "        <div>\n",
        "            <h1>가상 인테리어 디자이너</h1>\n",
        "            <div id=\"3d-scene\"></div>\n",
        "        </div>\n",
        "    );\n",
        "};\n",
        "\n",
        "export default RoomDesigner;\n"
      ],
      "metadata": {
        "id": "B6qqoOSQ_d1J"
      },
      "execution_count": null,
      "outputs": []
    },
    {
      "cell_type": "code",
      "execution_count": null,
      "metadata": {
        "id": "1q5d59en_D38"
      },
      "outputs": [],
      "source": [
        "from django.shortcuts import render\n",
        "from .models import Furniture, Room\n",
        "\n",
        "def home(request):\n",
        "    return render(request, 'home.html')\n",
        "\n",
        "def room_setup(request):\n",
        "    if request.method == 'POST':\n",
        "        # 방 설정 저장\n",
        "        pass\n",
        "    return render(request, 'room_setup.html')\n",
        "\n",
        "def furniture_catalog(request):\n",
        "    furnitures = Furniture.objects.all()\n",
        "    return render(request, 'furniture_catalog.html', {'furnitures': furnitures})\n"
      ]
    },
    {
      "cell_type": "code",
      "source": [],
      "metadata": {
        "id": "kztCQq9S_j9W"
      },
      "execution_count": null,
      "outputs": []
    }
  ]
}